{
 "cells": [
  {
   "cell_type": "code",
   "execution_count": 152,
   "id": "45800783",
   "metadata": {},
   "outputs": [],
   "source": [
    "import numpy as np\n",
    "import pandas as pd\n",
    "from scipy.io import loadmat\n",
    "import matplotlib.pyplot as plt\n",
    "from sklearn.preprocessing import OneHotEncoder\n",
    "from scipy.optimize import minimize\n",
    "import matplotlib\n",
    "from PIL import Image \n",
    "import matplotlib.image"
   ]
  },
  {
   "cell_type": "code",
   "execution_count": 206,
   "id": "1fd893f5",
   "metadata": {},
   "outputs": [
    {
     "data": {
      "text/plain": [
       "{'__header__': b'MATLAB 5.0 MAT-file, Platform: GLNXA64, Created on: Sun Oct 16 13:09:09 2011',\n",
       " '__version__': '1.0',\n",
       " '__globals__': [],\n",
       " 'X': array([[0., 0., 0., ..., 0., 0., 0.],\n",
       "        [0., 0., 0., ..., 0., 0., 0.],\n",
       "        [0., 0., 0., ..., 0., 0., 0.],\n",
       "        ...,\n",
       "        [0., 0., 0., ..., 0., 0., 0.],\n",
       "        [0., 0., 0., ..., 0., 0., 0.],\n",
       "        [0., 0., 0., ..., 0., 0., 0.]]),\n",
       " 'y': array([[10],\n",
       "        [10],\n",
       "        [10],\n",
       "        ...,\n",
       "        [ 9],\n",
       "        [ 9],\n",
       "        [ 9]], dtype=uint8)}"
      ]
     },
     "execution_count": 206,
     "metadata": {},
     "output_type": "execute_result"
    }
   ],
   "source": [
    "data = loadmat('ex4data1.mat')\n",
    "data"
   ]
  },
  {
   "cell_type": "code",
   "execution_count": 207,
   "id": "735987fd",
   "metadata": {},
   "outputs": [
    {
     "data": {
      "text/plain": [
       "((5000, 400), (5000, 1))"
      ]
     },
     "execution_count": 207,
     "metadata": {},
     "output_type": "execute_result"
    }
   ],
   "source": [
    "X = data['X']\n",
    "y = data['y']\n",
    "\n",
    "X.shape, y.shape"
   ]
  },
  {
   "cell_type": "code",
   "execution_count": 4,
   "id": "5bd55911",
   "metadata": {},
   "outputs": [
    {
     "data": {
      "text/plain": [
       "array([[0., 0., 0., ..., 0., 0., 1.],\n",
       "       [0., 0., 0., ..., 0., 0., 1.],\n",
       "       [0., 0., 0., ..., 0., 0., 1.],\n",
       "       ...,\n",
       "       [0., 0., 0., ..., 0., 1., 0.],\n",
       "       [0., 0., 0., ..., 0., 1., 0.],\n",
       "       [0., 0., 0., ..., 0., 1., 0.]])"
      ]
     },
     "execution_count": 4,
     "metadata": {},
     "output_type": "execute_result"
    }
   ],
   "source": [
    "encoder = OneHotEncoder(sparse=False)\n",
    "y_onehot = encoder.fit_transform(y)\n",
    "y_onehot"
   ]
  },
  {
   "cell_type": "code",
   "execution_count": 5,
   "id": "4783f7e3",
   "metadata": {},
   "outputs": [
    {
     "data": {
      "text/plain": [
       "(array([2], dtype=uint8), array([0., 1., 0., 0., 0., 0., 0., 0., 0., 0.]))"
      ]
     },
     "execution_count": 5,
     "metadata": {},
     "output_type": "execute_result"
    }
   ],
   "source": [
    "y[1000], y_onehot[1000,:]"
   ]
  },
  {
   "cell_type": "code",
   "execution_count": 6,
   "id": "85896176",
   "metadata": {},
   "outputs": [
    {
     "data": {
      "image/png": "[encoded data removed]",
      "text/plain": [
       "<Figure size 432x288 with 1 Axes>"
      ]
     },
     "metadata": {
      "needs_background": "light"
     },
     "output_type": "display_data"
    }
   ],
   "source": [
    "test_one=X[1000,:]\n",
    "test_one = test_one.reshape(20,20)\n",
    "test_one = test_one.T \n",
    "plt.imshow(test_one,cmap='gray')\n",
    "plt.axis('off')  # 关掉坐标轴\n",
    "plt.show()"
   ]
  },
  {
   "cell_type": "code",
   "execution_count": 7,
   "id": "d91f6280",
   "metadata": {},
   "outputs": [],
   "source": [
    "def sigmoid(z):\n",
    "    return 1/(1+np.exp(-z))"
   ]
  },
  {
   "cell_type": "code",
   "execution_count": 8,
   "id": "01da4e55",
   "metadata": {},
   "outputs": [],
   "source": [
    "def forward_propagation(X,theta1,theta2):\n",
    "    m=X.shape[0]\n",
    "    a1=np.insert(X,0,values=np.ones(m),axis=1)\n",
    "    z2=a1*theta1.T\n",
    "    a2=np.insert(sigmoid(z2),0,values=np.ones(m),axis=1)\n",
    "    z3=a2*theta2.T\n",
    "    h=sigmoid(z3)\n",
    "    return a1, z2, a2, z3, h\n",
    "    "
   ]
  },
  {
   "cell_type": "code",
   "execution_count": 9,
   "id": "6a90dc73",
   "metadata": {},
   "outputs": [],
   "source": [
    "input_size = 400\n",
    "hidden_size = 25\n",
    "num_labels = 10\n",
    "learning_rate = 1"
   ]
  },
  {
   "cell_type": "code",
   "execution_count": 10,
   "id": "2e224565",
   "metadata": {},
   "outputs": [
    {
     "data": {
      "text/plain": [
       "(10285,)"
      ]
     },
     "execution_count": 10,
     "metadata": {},
     "output_type": "execute_result"
    }
   ],
   "source": [
    "params = (np.random.random(size=hidden_size * (input_size + 1) + num_labels * (hidden_size + 1)) - 0.5) * 0.25\n",
    "\n",
    "params.shape"
   ]
  },
  {
   "cell_type": "code",
   "execution_count": 11,
   "id": "8a82dac8",
   "metadata": {},
   "outputs": [
    {
     "data": {
      "text/plain": [
       "(10025,)"
      ]
     },
     "execution_count": 11,
     "metadata": {},
     "output_type": "execute_result"
    }
   ],
   "source": [
    "params[:hidden_size * (input_size + 1)].shape"
   ]
  },
  {
   "cell_type": "code",
   "execution_count": 12,
   "id": "a2560354",
   "metadata": {},
   "outputs": [
    {
     "data": {
      "text/plain": [
       "matrix([[ 0.12148614, -0.04410064,  0.11042166, ...,  0.10304461,\n",
       "         -0.08779675,  0.10525147],\n",
       "        [-0.04363043,  0.00826556,  0.11487236, ..., -0.11633708,\n",
       "          0.1050732 , -0.04678448],\n",
       "        [ 0.10674993, -0.10910434, -0.08939668, ...,  0.10022922,\n",
       "          0.00713996, -0.07281345],\n",
       "        ...,\n",
       "        [-0.08705319, -0.08002304, -0.0175064 , ...,  0.05816887,\n",
       "         -0.10632292,  0.0408212 ],\n",
       "        [-0.07806692, -0.06881166, -0.08333705, ..., -0.10651798,\n",
       "         -0.01554995,  0.00095527],\n",
       "        [ 0.1045877 , -0.05729581,  0.09017467, ...,  0.11453294,\n",
       "          0.03040857,  0.02044361]])"
      ]
     },
     "execution_count": 12,
     "metadata": {},
     "output_type": "execute_result"
    }
   ],
   "source": [
    "theta1 = np.matrix(np.reshape(params[:hidden_size * (input_size + 1)], (hidden_size, (input_size + 1))))\n",
    "theta1"
   ]
  },
  {
   "cell_type": "code",
   "execution_count": 13,
   "id": "72713ec2",
   "metadata": {},
   "outputs": [
    {
     "data": {
      "text/plain": [
       "10285"
      ]
     },
     "execution_count": 13,
     "metadata": {},
     "output_type": "execute_result"
    }
   ],
   "source": [
    "x=((hidden_size * (input_size + 1) + num_labels * (hidden_size + 1)) )\n",
    "x"
   ]
  },
  {
   "cell_type": "code",
   "execution_count": 14,
   "id": "e34ffe6c",
   "metadata": {},
   "outputs": [],
   "source": [
    "def cost(params, input_size, hidden_size, num_labels, X, y, learning_rate):\n",
    "    m = X.shape[0]\n",
    "    X = np.matrix(X)\n",
    "    y = np.matrix(y)\n",
    "    \n",
    "    # reshape the parameter array into parameter matrices for each layer\n",
    "    theta1 = np.matrix(np.reshape(params[:hidden_size * (input_size + 1)], (hidden_size, (input_size + 1))))\n",
    "    theta2 = np.matrix(np.reshape(params[hidden_size * (input_size + 1):], (num_labels, (hidden_size + 1))))\n",
    "    \n",
    "    # run the feed-forward pass\n",
    "    a1, z2, a2, z3, h = forward_propagation(X, theta1, theta2)\n",
    "    \n",
    "    # compute the cost\n",
    "    J = 0\n",
    "    for i in range(m):\n",
    "        first_term = np.multiply(-y[i,:], np.log(h[i,:]))\n",
    "        second_term = np.multiply((1 - y[i,:]), np.log(1 - h[i,:]))\n",
    "        J += np.sum(first_term - second_term)\n",
    "    \n",
    "    J = J / m\n",
    "    \n",
    "    # add the cost regularization term\n",
    "    J += (float(learning_rate) / (2 * m)) * (np.sum(np.power(theta1[:,1:], 2)) + np.sum(np.power(theta2[:,1:], 2)))\n",
    "    \n",
    "    return J"
   ]
  },
  {
   "cell_type": "code",
   "execution_count": 15,
   "id": "b17398ea",
   "metadata": {},
   "outputs": [
    {
     "data": {
      "text/plain": [
       "7.093349787806881"
      ]
     },
     "execution_count": 15,
     "metadata": {},
     "output_type": "execute_result"
    }
   ],
   "source": [
    "cost(params, input_size, hidden_size, num_labels, X, y_onehot, learning_rate)"
   ]
  },
  {
   "cell_type": "code",
   "execution_count": 16,
   "id": "2edeb8f5",
   "metadata": {},
   "outputs": [],
   "source": [
    "def sigmoid_gradient(z):\n",
    "    return np.multiply(sigmoid(z), (1 - sigmoid(z)))"
   ]
  },
  {
   "cell_type": "code",
   "execution_count": 17,
   "id": "2065c903",
   "metadata": {},
   "outputs": [],
   "source": [
    "def backprop(params, input_size, hidden_size, num_labels, X, y, learning_rate):\n",
    "    m = X.shape[0]\n",
    "    X = np.matrix(X)\n",
    "    y = np.matrix(y)\n",
    "    \n",
    "    # reshape the parameter array into parameter matrices for each layer\n",
    "    theta1 = np.matrix(np.reshape(params[:hidden_size * (input_size + 1)], (hidden_size, (input_size + 1))))\n",
    "    theta2 = np.matrix(np.reshape(params[hidden_size * (input_size + 1):], (num_labels, (hidden_size + 1))))\n",
    "    \n",
    "    # run the feed-forward pass\n",
    "    a1, z2, a2, z3, h = forward_propagation(X, theta1, theta2)\n",
    "    \n",
    "    # initializations\n",
    "    J = 0\n",
    "    delta1 = np.zeros(theta1.shape)  # (25, 401)\n",
    "    delta2 = np.zeros(theta2.shape)  # (10, 26)\n",
    "    \n",
    "    # compute the cost\n",
    "    for i in range(m):\n",
    "        first_term = np.multiply(-y[i,:], np.log(h[i,:]))\n",
    "        second_term = np.multiply((1 - y[i,:]), np.log(1 - h[i,:]))\n",
    "        J += np.sum(first_term - second_term)\n",
    "    \n",
    "    J = J / m\n",
    "    \n",
    "    # add the cost regularization term\n",
    "    J += (float(learning_rate) / (2 * m)) * (np.sum(np.power(theta1[:,1:], 2)) + np.sum(np.power(theta2[:,1:], 2)))\n",
    "    \n",
    "    # perform backpropagation\n",
    "    for t in range(m):\n",
    "        a1t = a1[t,:]  # (1, 401)\n",
    "        z2t = z2[t,:]  # (1, 25)\n",
    "        a2t = a2[t,:]  # (1, 26)\n",
    "        ht = h[t,:]  # (1, 10)\n",
    "        yt = y[t,:]  # (1, 10)\n",
    "        \n",
    "        d3t = ht - yt  # (1, 10)\n",
    "        \n",
    "        z2t = np.insert(z2t, 0, values=np.ones(1))  # (1, 26)\n",
    "        d2t = np.multiply((theta2.T * d3t.T).T, sigmoid_gradient(z2t))  # (1, 26)\n",
    "        \n",
    "        delta1 = delta1 + (d2t[:,1:]).T * a1t\n",
    "        delta2 = delta2 + d3t.T * a2t\n",
    "        \n",
    "    delta1 = delta1 / m\n",
    "    delta2 = delta2 / m\n",
    "    \n",
    "    # add the gradient regularization term\n",
    "    delta1[:,1:] = delta1[:,1:] + (theta1[:,1:] * learning_rate) / m\n",
    "    delta2[:,1:] = delta2[:,1:] + (theta2[:,1:] * learning_rate) / m\n",
    "    \n",
    "    # unravel the gradient matrices into a single array\n",
    "    grad = np.concatenate((np.ravel(delta1), np.ravel(delta2)))\n",
    "    \n",
    "    return J, grad,delta1,delta2"
   ]
  },
  {
   "cell_type": "code",
   "execution_count": 18,
   "id": "d32afe98",
   "metadata": {},
   "outputs": [
    {
     "data": {
      "text/plain": [
       "array([ 1.64664421e-02, -8.82012852e-06,  2.20843312e-05, ...,\n",
       "        2.00922027e-01,  2.21264392e-01,  2.28647329e-01])"
      ]
     },
     "execution_count": 18,
     "metadata": {},
     "output_type": "execute_result"
    }
   ],
   "source": [
    "J, grad,delta1,delta2 = backprop(params, input_size, hidden_size, num_labels, X, y_onehot, learning_rate)\n",
    "grad"
   ]
  },
  {
   "cell_type": "code",
   "execution_count": 19,
   "id": "9c593225",
   "metadata": {},
   "outputs": [
    {
     "data": {
      "text/plain": [
       "     fun: 0.314690657963394\n",
       "     jac: array([ 1.68713874e-04, -1.50914434e-08,  2.39976989e-08, ...,\n",
       "       -3.13678207e-06,  2.23496898e-05, -2.57685518e-05])\n",
       " message: 'Max. number of function evaluations reached'\n",
       "    nfev: 400\n",
       "     nit: 28\n",
       "  status: 3\n",
       " success: False\n",
       "       x: array([-6.00804066e-01, -7.54572168e-05,  1.19988495e-04, ...,\n",
       "       -1.53269989e+00,  2.79336283e+00, -6.18430064e-01])"
      ]
     },
     "execution_count": 19,
     "metadata": {},
     "output_type": "execute_result"
    }
   ],
   "source": [
    "fmin=minimize(fun=backprop,x0=params,args=(input_size, hidden_size, num_labels, X, y_onehot, learning_rate), \n",
    "              method='TNC',jac=True,options={'maxiter':400})\n",
    "fmin"
   ]
  },
  {
   "cell_type": "code",
   "execution_count": 20,
   "id": "d57d01c9",
   "metadata": {},
   "outputs": [],
   "source": [
    "def backprop1(params, input_size, hidden_size, num_labels, X, y, learning_rate,theta1,theta2):\n",
    "    m = X.shape[0]\n",
    "    X = np.matrix(X)\n",
    "    y = np.matrix(y)\n",
    "    \n",
    "    # reshape the parameter array into parameter matrices for each layer\n",
    "    \n",
    "    # run the feed-forward pass\n",
    "    a1, z2, a2, z3, h = forward_propagation(X, theta1, theta2)\n",
    "    \n",
    "    # initializations\n",
    "    J = 0\n",
    "    delta1 = np.zeros(theta1.shape)  # (25, 401)\n",
    "    delta2 = np.zeros(theta2.shape)  # (10, 26)\n",
    "    \n",
    "    # compute the cost\n",
    "    for i in range(m):\n",
    "        first_term = np.multiply(-y[i,:], np.log(h[i,:]))\n",
    "        second_term = np.multiply((1 - y[i,:]), np.log(1 - h[i,:]))\n",
    "        J += np.sum(first_term - second_term)\n",
    "    \n",
    "    J = J / m\n",
    "    \n",
    "    # add the cost regularization term\n",
    "    J += (float(learning_rate) / (2 * m)) * (np.sum(np.power(theta1[:,1:], 2)) + np.sum(np.power(theta2[:,1:], 2)))\n",
    "    \n",
    "    # perform backpropagation\n",
    "    for t in range(m):\n",
    "        a1t = a1[t,:]  # (1, 401)\n",
    "        z2t = z2[t,:]  # (1, 25)\n",
    "        a2t = a2[t,:]  # (1, 26)\n",
    "        ht = h[t,:]  # (1, 10)\n",
    "        yt = y[t,:]  # (1, 10)\n",
    "        \n",
    "        d3t = ht - yt  # (1, 10)\n",
    "        \n",
    "        z2t = np.insert(z2t, 0, values=np.ones(1))  # (1, 26)\n",
    "        d2t = np.multiply((theta2.T * d3t.T).T, sigmoid_gradient(z2t))  # (1, 26)\n",
    "        \n",
    "        delta1 = delta1 + (d2t[:,1:]).T * a1t\n",
    "        delta2 = delta2 + d3t.T * a2t\n",
    "        \n",
    "    delta1 = delta1 / m\n",
    "    delta2 = delta2 / m\n",
    "    \n",
    "    # add the gradient regularization term\n",
    "    delta1[:,1:] = delta1[:,1:] + (theta1[:,1:] * learning_rate) / m\n",
    "    delta2[:,1:] = delta2[:,1:] + (theta2[:,1:] * learning_rate) / m\n",
    "    \n",
    "    # unravel the gradient matrices into a single array\n",
    "    grad = np.concatenate((np.ravel(delta1), np.ravel(delta2)))\n",
    "    \n",
    "    return J, grad,delta1,delta2"
   ]
  },
  {
   "cell_type": "code",
   "execution_count": 238,
   "id": "35912b32",
   "metadata": {},
   "outputs": [],
   "source": [
    "# fmin=minimize(fun=backprop,x0=params,args=(input_size, hidden_size, num_labels, X, y_onehot, learning_rate), \n",
    "#               method='TNC',jac=True)\n",
    "# 如果不限定次数的话运行时间过久"
   ]
  },
  {
   "cell_type": "code",
   "execution_count": 22,
   "id": "08f3fd2b",
   "metadata": {},
   "outputs": [
    {
     "data": {
      "text/plain": [
       "array([[10],\n",
       "       [10],\n",
       "       [10],\n",
       "       ...,\n",
       "       [ 9],\n",
       "       [ 9],\n",
       "       [ 9]], dtype=int64)"
      ]
     },
     "execution_count": 22,
     "metadata": {},
     "output_type": "execute_result"
    }
   ],
   "source": [
    "X = np.matrix(X)\n",
    "theta1 = np.matrix(np.reshape(fmin.x[:hidden_size * (input_size + 1)], (hidden_size, (input_size + 1))))\n",
    "theta2 = np.matrix(np.reshape(fmin.x[hidden_size * (input_size + 1):], (num_labels, (hidden_size + 1))))\n",
    "\n",
    "a1, z2, a2, z3, h = forward_propagation(X, theta1, theta2)\n",
    "y_pred = np.array(np.argmax(h, axis=1) + 1)\n",
    "y_pred"
   ]
  },
  {
   "cell_type": "code",
   "execution_count": 226,
   "id": "d8aa553d",
   "metadata": {},
   "outputs": [],
   "source": [
    "with open('E:\\Python\\ML\\\\theta1.txt', 'w') as f:\n",
    "     for i in range (len (theta1)): \n",
    "         f.write(str(theta1[i])+'\\n')"
   ]
  },
  {
   "cell_type": "code",
   "execution_count": 227,
   "id": "5e6836f3",
   "metadata": {},
   "outputs": [],
   "source": [
    "with open('E:\\Python\\ML\\\\theta2.txt', 'w') as f:\n",
    "     for i in range (len (theta2)): \n",
    "         f.write(str(theta2[i])+'\\n')"
   ]
  },
  {
   "cell_type": "code",
   "execution_count": 197,
   "id": "68212a85",
   "metadata": {},
   "outputs": [
    {
     "data": {
      "text/plain": [
       "array([[1]], dtype=int64)"
      ]
     },
     "execution_count": 197,
     "metadata": {},
     "output_type": "execute_result"
    }
   ],
   "source": [
    "predictPhoto=X[600,:]\n",
    "a1, z2, a2, z3, h1 = forward_propagation(predictPhoto, theta1, theta2)\n",
    "y_pred = np.array(np.argmax(h1, axis=1) + 1)\n",
    "y_pred"
   ]
  },
  {
   "cell_type": "code",
   "execution_count": 190,
   "id": "a7467655",
   "metadata": {},
   "outputs": [
    {
     "data": {
      "image/png": "[encoded data removed]",
      "text/plain": [
       "<Figure size 432x288 with 1 Axes>"
      ]
     },
     "metadata": {
      "needs_background": "light"
     },
     "output_type": "display_data"
    }
   ],
   "source": [
    "predictPhoto = predictPhoto.reshape(20,20)\n",
    "predictPhoto = predictPhoto.T \n",
    "plt.imshow(predictPhoto,cmap='gray')\n",
    "plt.axis('off')  # 关掉坐标轴\n",
    "plt.show()"
   ]
  },
  {
   "cell_type": "code",
   "execution_count": 158,
   "id": "730c7dac",
   "metadata": {},
   "outputs": [],
   "source": [
    "def ImageToMatrix(filename):\n",
    "    # 读取图片\n",
    "    im = Image.open(filename)\n",
    "    # 显示图片\n",
    "    im.show()  \n",
    "    width,height = im.size\n",
    "    im = im.convert(\"L\") \n",
    "    data = im.getdata()\n",
    "    data = np.matrix(data,dtype='float')/255.0\n",
    "    #new_data = np.reshape(data,(width,height))\n",
    "    new_data = np.reshape(data,(height,width))\n",
    "    return new_data"
   ]
  },
  {
   "cell_type": "code",
   "execution_count": 122,
   "id": "cb859f2d",
   "metadata": {},
   "outputs": [
    {
     "name": "stdout",
     "output_type": "stream",
     "text": [
      "accuracy = 99.5%\n"
     ]
    }
   ],
   "source": [
    "correct=[1 if a==b else 0 for (a,b) in zip(y_pred,y)]\n",
    "accuracy=(sum(map(int,correct)))/float(len(correct))\n",
    "print ('accuracy = {0}%'.format(accuracy * 100))"
   ]
  },
  {
   "cell_type": "code",
   "execution_count": 25,
   "id": "841e5f08",
   "metadata": {},
   "outputs": [
    {
     "data": {
      "text/plain": [
       "(10285,)"
      ]
     },
     "execution_count": 25,
     "metadata": {},
     "output_type": "execute_result"
    }
   ],
   "source": [
    "fmin.x.shape"
   ]
  },
  {
   "cell_type": "code",
   "execution_count": 26,
   "id": "e61b90f4",
   "metadata": {},
   "outputs": [
    {
     "data": {
      "text/plain": [
       "(25, 401)"
      ]
     },
     "execution_count": 26,
     "metadata": {},
     "output_type": "execute_result"
    }
   ],
   "source": [
    "delta1.shape"
   ]
  },
  {
   "cell_type": "code",
   "execution_count": 253,
   "id": "4ab854f7",
   "metadata": {},
   "outputs": [],
   "source": [
    "def cost1(params, input_size, hidden_size, num_labels, X, y, learning_rate,theta1,theta2):\n",
    "    m = X.shape[0]\n",
    "    X = np.matrix(X)\n",
    "    y = np.matrix(y)\n",
    "    \n",
    "    # reshape the parameter array into parameter matrices for each layer\n",
    "    \n",
    "    \n",
    "    # run the feed-forward pass\n",
    "    a1, z2, a2, z3, h = forward_propagation(X, theta3, theta4)\n",
    "    \n",
    "    # compute the cost\n",
    "    J = 0\n",
    "    for i in range(m):\n",
    "        first_term = np.multiply(-y[i,:], np.log(h[i,:]))\n",
    "        second_term = np.multiply((1 - y[i,:]), np.log(1 - h[i,:]))\n",
    "        J += np.sum(first_term - second_term)\n",
    "    \n",
    "    J = J / m\n",
    "    \n",
    "    # add the cost regularization term\n",
    "    J += (float(learning_rate) / (2 * m)) * (np.sum(np.power(theta1[:,1:], 2)) + np.sum(np.power(theta2[:,1:], 2)))\n",
    "    \n",
    "    return J"
   ]
  },
  {
   "cell_type": "code",
   "execution_count": 29,
   "id": "a506157c",
   "metadata": {},
   "outputs": [
    {
     "data": {
      "text/plain": [
       "(25, 401)"
      ]
     },
     "execution_count": 29,
     "metadata": {},
     "output_type": "execute_result"
    }
   ],
   "source": [
    "theta1.shape"
   ]
  },
  {
   "cell_type": "code",
   "execution_count": 115,
   "id": "e9a42ff6",
   "metadata": {},
   "outputs": [],
   "source": [
    "def gradientChecking(theta1,theta2,X,y_onehot,delta1,delta2,params,input_size,hidden_size,num_labels,learning_rate):\n",
    "    m1,n1=theta1.shape\n",
    "    m2,n2=theta2.shape\n",
    "    eps=0.0001\n",
    "    f_theta1=np.zeros((m1,n1))\n",
    "    f_theta2=np.zeros((m2,n2))\n",
    "    for i in range(m1):\n",
    "        for j in range(n1):\n",
    "            theta_plus=theta1.copy()\n",
    "            theta_plus[i,j]=theta_plus[i,j]+eps\n",
    "            theta_minus=theta1.copy()\n",
    "            theta_minus[i,j]=theta_minus[i,j]-eps\n",
    "            f_theta1[i,j]=(cost1(params, input_size, hidden_size, num_labels, X, y_onehot, learning_rate,theta_plus,theta2)\n",
    "                           -cost1(params, input_size, hidden_size, num_labels, X, y_onehot, learning_rate,theta_minus,theta2))/(2*eps)- delta1[i,j]\n",
    "    \n",
    "    for i in range(m2):\n",
    "        for j in range(n2):\n",
    "            theta_plus=theta2.copy()\n",
    "            theta_plus[i,j]=theta_plus[i,j]+eps\n",
    "            theta_minus=theta2.copy()\n",
    "            theta_minus[i,j]=theta_minus[i,j]-eps\n",
    "            f_theta2[i,j]=(cost1(params, input_size, hidden_size, num_labels, X, y_onehot, learning_rate,theta1,theta_plus)\n",
    "                           -cost1(params, input_size, hidden_size, num_labels, X, y_onehot, learning_rate,theta1,theta_minus))/(2*eps)- delta2[i,j]\n",
    "            \n",
    "    return f_theta1,f_theta2\n"
   ]
  },
  {
   "cell_type": "code",
   "execution_count": 116,
   "id": "e210c799",
   "metadata": {},
   "outputs": [],
   "source": [
    "f1,f2 = gradientChecking(theta1,theta2,X,y_onehot,delta1,delta2,params,input_size,hidden_size,num_labels,learning_rate)"
   ]
  },
  {
   "cell_type": "code",
   "execution_count": 117,
   "id": "c4e0e72b",
   "metadata": {
    "scrolled": true
   },
   "outputs": [
    {
     "data": {
      "text/plain": [
       "(8.229378604344278e-12,\n",
       " 7.586737820108522e-12,\n",
       " -7.0954801685866806e-12,\n",
       " -3.932381330284951e-12)"
      ]
     },
     "execution_count": 117,
     "metadata": {},
     "output_type": "execute_result"
    }
   ],
   "source": [
    "np.max(f1),np.max(f2),np.min(f1),np.min(f2)"
   ]
  },
  {
   "cell_type": "code",
   "execution_count": 120,
   "id": "d35161b7",
   "metadata": {},
   "outputs": [
    {
     "data": {
      "text/plain": [
       "array([[ 1.82792469e-12, -9.57754778e-14,  4.92884206e-14, ...,\n",
       "        -7.12975855e-14, -1.03415432e-14,  9.54421459e-14],\n",
       "       [ 5.01880373e-12, -2.48025159e-14,  4.78305812e-14, ...,\n",
       "         1.00383636e-13, -2.46432385e-13, -1.77800753e-13],\n",
       "       [ 4.55497897e-13,  1.64267075e-13,  2.43410644e-13, ...,\n",
       "        -3.95599955e-14, -2.28430530e-14,  1.06327536e-13],\n",
       "       ...,\n",
       "       [-1.67439836e-12,  1.92341087e-14,  1.15609165e-13, ...,\n",
       "        -1.49440967e-14,  1.49901021e-13, -9.56254659e-15],\n",
       "       [ 2.95825759e-12, -1.25143682e-13,  2.15852863e-14, ...,\n",
       "        -4.26609851e-14, -8.76668681e-14,  8.06534515e-14],\n",
       "       [-7.08142583e-15,  2.08263247e-13,  1.33137751e-13, ...,\n",
       "        -1.74814839e-13, -2.41043150e-13, -1.02864347e-13]])"
      ]
     },
     "execution_count": 120,
     "metadata": {},
     "output_type": "execute_result"
    }
   ],
   "source": [
    "f1"
   ]
  },
  {
   "cell_type": "code",
   "execution_count": 130,
   "id": "b56bb28c",
   "metadata": {},
   "outputs": [],
   "source": [
    "def serialize(a, b):\n",
    "  \n",
    "    return np.concatenate((np.ravel(a), np.ravel(b)))\n",
    "theta=serialize(theta1,theta2)"
   ]
  },
  {
   "cell_type": "code",
   "execution_count": 131,
   "id": "74525aed",
   "metadata": {},
   "outputs": [],
   "source": [
    "def deserialize(seq):\n",
    "#     \"\"\"into ndarray of (25, 401), (10, 26)\"\"\"\n",
    "    return seq[:25 * 401].reshape(25, 401), seq[25 * 401:].reshape(10, 26)"
   ]
  },
  {
   "cell_type": "code",
   "execution_count": 138,
   "id": "8e783538",
   "metadata": {},
   "outputs": [],
   "source": [
    "def plot_hidden_layer(theta):\n",
    "    \"\"\"\n",
    "    theta: (10285, )\n",
    "    \"\"\"\n",
    "    final_theta1, _ = deserialize(theta)\n",
    "    hidden_layer = final_theta1[:, 1:]  # ger rid of bias term theta\n",
    "\n",
    "    fig, ax_array = plt.subplots(nrows=5, ncols=5, sharey=True, sharex=True, figsize=(8, 8))\n",
    "\n",
    "    for r in range(5):\n",
    "        for c in range(5):\n",
    "            ax_array[r, c].matshow(hidden_layer[5 * r + c].reshape((20, 20)),\n",
    "                                   cmap=matplotlib.cm.binary)\n",
    "            plt.xticks(np.array([]))\n",
    "            plt.yticks(np.array([]))"
   ]
  },
  {
   "cell_type": "code",
   "execution_count": 139,
   "id": "39254ea2",
   "metadata": {},
   "outputs": [
    {
     "data": {
      "image/png": "[encoded data removed]",
      "text/plain": [
       "<Figure size 576x576 with 25 Axes>"
      ]
     },
     "metadata": {},
     "output_type": "display_data"
    }
   ],
   "source": [
    "plot_hidden_layer(theta)\n",
    "plt.show()"
   ]
  },
  {
   "cell_type": "markdown",
   "id": "858b53f3",
   "metadata": {},
   "source": [
    "将原数据集6:2:2分割称训练集，交叉验证集，测试集。使用训练集拟合参数，分别用验证集和测试集测验该模型的泛化能力"
   ]
  },
  {
   "cell_type": "code",
   "execution_count": 213,
   "id": "b936aa41",
   "metadata": {},
   "outputs": [],
   "source": [
    "np.random.shuffle(X)"
   ]
  },
  {
   "cell_type": "code",
   "execution_count": 218,
   "id": "f91ae15b",
   "metadata": {},
   "outputs": [
    {
     "data": {
      "text/plain": [
       "((3000, 400), (1000, 400), (1000, 400))"
      ]
     },
     "execution_count": 218,
     "metadata": {},
     "output_type": "execute_result"
    }
   ],
   "source": [
    "train_set=X[0:3000,:]\n",
    "cv_set=X[3000:4000,:]\n",
    "test_set=X[4000:,:]\n",
    "train_set.shape,cv_set.shape,test_set.shape"
   ]
  },
  {
   "cell_type": "code",
   "execution_count": 229,
   "id": "5791d183",
   "metadata": {},
   "outputs": [
    {
     "data": {
      "text/plain": [
       "array([[7],\n",
       "       [6],\n",
       "       [5],\n",
       "       ...,\n",
       "       [5],\n",
       "       [2],\n",
       "       [1]], dtype=int64)"
      ]
     },
     "execution_count": 229,
     "metadata": {},
     "output_type": "execute_result"
    }
   ],
   "source": [
    "a1, z2, a2, z3, h = forward_propagation(train_set, theta1, theta2)\n",
    "y_train = np.array(np.argmax(h, axis=1) + 1)\n",
    "y_train"
   ]
  },
  {
   "cell_type": "code",
   "execution_count": 232,
   "id": "0f57b5d6",
   "metadata": {},
   "outputs": [
    {
     "data": {
      "text/plain": [
       "(1000, 1)"
      ]
     },
     "execution_count": 232,
     "metadata": {},
     "output_type": "execute_result"
    }
   ],
   "source": [
    "_, _, _, _, h = forward_propagation(cv_set, theta1, theta2)\n",
    "y_cv = np.array(np.argmax(h, axis=1) + 1)\n",
    "y_cv.shape"
   ]
  },
  {
   "cell_type": "code",
   "execution_count": 233,
   "id": "cf834fe7",
   "metadata": {},
   "outputs": [
    {
     "data": {
      "text/plain": [
       "(1000, 1)"
      ]
     },
     "execution_count": 233,
     "metadata": {},
     "output_type": "execute_result"
    }
   ],
   "source": [
    "_, _, _, _, h = forward_propagation(test_set, theta1, theta2)\n",
    "y_test = np.array(np.argmax(h, axis=1) + 1)\n",
    "y_test.shape"
   ]
  },
  {
   "cell_type": "code",
   "execution_count": 235,
   "id": "7008f328",
   "metadata": {},
   "outputs": [],
   "source": [
    "encoder1 = OneHotEncoder(sparse=False)\n",
    "y_onehot1 = encoder1.fit_transform(y_train)\n",
    "encoder2 = OneHotEncoder(sparse=False)\n",
    "y_onehot2 = encoder2.fit_transform(y_cv)\n",
    "encoder3 = OneHotEncoder(sparse=False)\n",
    "y_onehot3 = encoder3.fit_transform(y_test)"
   ]
  },
  {
   "cell_type": "code",
   "execution_count": 237,
   "id": "3235dd0e",
   "metadata": {},
   "outputs": [
    {
     "data": {
      "text/plain": [
       "array([ 1.64767232e-02, -1.47002142e-05,  3.68072187e-05, ...,\n",
       "        2.00509407e-01,  2.21942361e-01,  2.29278602e-01])"
      ]
     },
     "execution_count": 237,
     "metadata": {},
     "output_type": "execute_result"
    }
   ],
   "source": [
    "J, grad,delta1,delta2 = backprop(params, input_size, hidden_size, num_labels, train_set, y_onehot1, learning_rate)\n",
    "grad"
   ]
  },
  {
   "cell_type": "code",
   "execution_count": 239,
   "id": "5432bb9a",
   "metadata": {},
   "outputs": [
    {
     "data": {
      "text/plain": [
       "     fun: 0.36268603465059734\n",
       "     jac: array([-1.10566511e-04, -2.14784836e-08,  2.73774627e-08, ...,\n",
       "       -1.55638739e-07, -1.33910039e-05,  9.95857150e-06])\n",
       " message: 'Max. number of function evaluations reached'\n",
       "    nfev: 401\n",
       "     nit: 26\n",
       "  status: 3\n",
       " success: False\n",
       "       x: array([-1.96508626e+00, -6.44354507e-05,  8.21323881e-05, ...,\n",
       "       -9.74412091e-01,  1.23200180e+00,  3.46039397e-01])"
      ]
     },
     "execution_count": 239,
     "metadata": {},
     "output_type": "execute_result"
    }
   ],
   "source": [
    "train_min=minimize(fun=backprop,x0=params,args=(input_size, hidden_size, num_labels, train_set, y_onehot1, learning_rate),\n",
    "                  method='TNC',jac=True,options={'maxiter':400})\n",
    "train_min"
   ]
  },
  {
   "cell_type": "code",
   "execution_count": 240,
   "id": "a20f5954",
   "metadata": {},
   "outputs": [
    {
     "data": {
      "text/plain": [
       "(10285,)"
      ]
     },
     "execution_count": 240,
     "metadata": {},
     "output_type": "execute_result"
    }
   ],
   "source": [
    "train_min.x.shape"
   ]
  },
  {
   "cell_type": "code",
   "execution_count": 274,
   "id": "684937c8",
   "metadata": {},
   "outputs": [],
   "source": [
    "theta3 = np.matrix(np.reshape(train_min.x[:hidden_size * (input_size + 1)], (hidden_size, (input_size + 1))))\n",
    "theta4 = np.matrix(np.reshape(train_min.x[hidden_size * (input_size + 1):], (num_labels, (hidden_size + 1))))"
   ]
  },
  {
   "cell_type": "code",
   "execution_count": 275,
   "id": "d4dcbc12",
   "metadata": {},
   "outputs": [
    {
     "data": {
      "text/plain": [
       "array([[7],\n",
       "       [6],\n",
       "       [5],\n",
       "       ...,\n",
       "       [5],\n",
       "       [2],\n",
       "       [1]], dtype=int64)"
      ]
     },
     "execution_count": 275,
     "metadata": {},
     "output_type": "execute_result"
    }
   ],
   "source": [
    "_, _, _, _, h = forward_propagation(train_set, theta3, theta4)\n",
    "y_pred1 = np.array(np.argmax(h, axis=1) + 1)\n",
    "y_pred1"
   ]
  },
  {
   "cell_type": "code",
   "execution_count": 276,
   "id": "09b46a70",
   "metadata": {},
   "outputs": [
    {
     "name": "stdout",
     "output_type": "stream",
     "text": [
      "accuracy_train:99.86666666666667%\n"
     ]
    }
   ],
   "source": [
    "correct1=[1 if a==b else 0 for (a,b) in zip(y_pred1,y_train)]\n",
    "accuracy_train=(sum(map(int,correct1)))/float(len(correct1))\n",
    "print('accuracy_train:{}%'.format(accuracy_train*100))"
   ]
  },
  {
   "cell_type": "code",
   "execution_count": 269,
   "id": "c076a932",
   "metadata": {},
   "outputs": [
    {
     "data": {
      "text/plain": [
       "(1000, 1)"
      ]
     },
     "execution_count": 269,
     "metadata": {},
     "output_type": "execute_result"
    }
   ],
   "source": [
    "_, _, _, _, h = forward_propagation(cv_set, theta3, theta4)\n",
    "y_pred2 = np.array(np.argmax(h, axis=1) + 1)\n",
    "y_pred2.shape"
   ]
  },
  {
   "cell_type": "code",
   "execution_count": 277,
   "id": "691b763f",
   "metadata": {},
   "outputs": [
    {
     "name": "stdout",
     "output_type": "stream",
     "text": [
      "accuracy_cv:95.1%\n"
     ]
    }
   ],
   "source": [
    "correct2=[1 if a==b else 0 for (a,b) in zip(y_pred2,y_cv)]\n",
    "accuracy_cv=(sum(map(int,correct2)))/float(len(correct2))\n",
    "print('accuracy_cv:{}%'.format(accuracy_cv*100))"
   ]
  },
  {
   "cell_type": "code",
   "execution_count": 285,
   "id": "0aa113fa",
   "metadata": {},
   "outputs": [],
   "source": [
    "_, _, _, _, h = forward_propagation(test_set, theta3, theta4)\n",
    "y_pred3 = np.array(np.argmax(h, axis=1) + 1)\n"
   ]
  },
  {
   "cell_type": "code",
   "execution_count": 286,
   "id": "6c9af8b5",
   "metadata": {},
   "outputs": [
    {
     "name": "stdout",
     "output_type": "stream",
     "text": [
      "accuracy_test:94.6%\n"
     ]
    }
   ],
   "source": [
    "correct3=[1 if a==b else 0 for (a,b) in zip(y_pred3,y_test)]\n",
    "accuracy_test=(sum(map(int,correct3)))/float(len(correct3))\n",
    "print('accuracy_test:{}%'.format(accuracy_test*100))"
   ]
  },
  {
   "cell_type": "markdown",
   "id": "75ffd3a2",
   "metadata": {},
   "source": [
    "#总结：该模型训练集准确率高（99.86%），其在cv_set,test_set上泛化能力尚可，准确率达到了95.1%和94.6%"
   ]
  }
 ],
 "metadata": {
  "kernelspec": {
   "display_name": "Python 3 (ipykernel)",
   "language": "python",
   "name": "python3"
  },
  "language_info": {
   "codemirror_mode": {
    "name": "ipython",
    "version": 3
   },
   "file_extension": ".py",
   "mimetype": "text/x-python",
   "name": "python",
   "nbconvert_exporter": "python",
   "pygments_lexer": "ipython3",
   "version": "3.9.7"
  }
 },
 "nbformat": 4,
 "nbformat_minor": 5
}
